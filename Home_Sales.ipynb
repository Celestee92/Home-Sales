{
 "cells": [
  {
   "cell_type": "code",
   "execution_count": 1,
   "metadata": {
    "colab": {
     "base_uri": "https://localhost:8080/"
    },
    "id": "a_KW73O2e3dw",
    "outputId": "fa5fd2b3-e2de-491b-ee1c-405317ba7ebc"
   },
   "outputs": [],
   "source": [
    "# Import findspark and initialize. \n",
    "import findspark\n",
    "findspark.init()"
   ]
  },
  {
   "cell_type": "code",
   "execution_count": null,
   "metadata": {
    "id": "2XbWNf1Te5fM"
   },
   "outputs": [],
   "source": [
    "# Import packages\n",
    "from pyspark.sql import SparkSession\n",
    "import time\n",
    "\n",
    "# Create a SparkSession\n",
    "spark = SparkSession.builder.appName(\"SparkSQL\").getOrCreate()"
   ]
  },
  {
   "cell_type": "code",
   "execution_count": null,
   "metadata": {
    "colab": {
     "base_uri": "https://localhost:8080/"
    },
    "id": "wOJqxG_RPSwp",
    "outputId": "7857ef9f-5b04-405d-f5aa-e535dfe7870c"
   },
   "outputs": [],
   "source": [
    "# 1. Read in the AWS S3 bucket into a DataFrame.\n",
    "from pyspark import SparkFiles\n",
    "url = \"https://2u-data-curriculum-team.s3.amazonaws.com/dataviz-classroom/v1.2/22-big-data/home_sales_revised.csv\"\n",
    "\n",
    "spark.sparkContext.addFile(url)\n",
    "df = spark.read.csv(SparkFiles.get(\"home_sales_revised.csv\"), header=True, inferSchema=True)"
   ]
  },
  {
   "cell_type": "code",
   "execution_count": null,
   "metadata": {
    "id": "RoljcJ7WPpnm"
   },
   "outputs": [],
   "source": [
    "# 2. Create a temporary view of the DataFrame.\n",
    "\n",
    "df.createOrReplaceTempView(\"home_sales\")"
   ]
  },
  {
   "cell_type": "code",
   "execution_count": null,
   "metadata": {
    "colab": {
     "base_uri": "https://localhost:8080/"
    },
    "id": "L6fkwOeOmqvq",
    "outputId": "bdded620-79c4-488d-c7a5-91c6799c419e"
   },
   "outputs": [],
   "source": [
    "# 3. What is the average price for a four bedroom house sold per year, rounded to two decimal places?\n",
    "\n",
    "# Perform a SQL query to find the average price for a four-bedroom house sold per year\n",
    "query = \"\"\"\n",
    "SELECT year(date_sold) AS year, \n",
    "       ROUND(AVG(price), 2) AS avg_price\n",
    "FROM home_sales\n",
    "WHERE bedrooms = 4\n",
    "GROUP BY year(date_sold)\n",
    "ORDER BY year(date_sold)\n",
    "\"\"\"\n",
    "\n",
    "# Run the query and convert to a Pandas DataFrame for better visualization\n",
    "avg_price_per_year_df = spark.sql(query).toPandas()\n",
    "\n",
    "# Show the results\n",
    "avg_price_per_year_df\n"
   ]
  },
  {
   "cell_type": "code",
   "execution_count": null,
   "metadata": {
    "colab": {
     "base_uri": "https://localhost:8080/"
    },
    "id": "l8p_tUS8h8it",
    "outputId": "65806e5f-6262-41c0-ff65-5107464e5c4d"
   },
   "outputs": [],
   "source": [
    "# 4. What is the average price of a home for each year the home was built,\n",
    "# that have 3 bedrooms and 3 bathrooms, rounded to two decimal places?\n",
    "\n",
    "# Perform a SQL query to find the average price for a home with three bedrooms and three bathrooms per year built\n",
    "query = \"\"\"\n",
    "SELECT year_built, \n",
    "       ROUND(AVG(price), 2) AS avg_price\n",
    "FROM home_sales\n",
    "WHERE bedrooms = 3 AND bathrooms = 3\n",
    "GROUP BY year_built\n",
    "ORDER BY year_built\n",
    "\"\"\"\n",
    "\n",
    "# Run the query and show results\n",
    "avg_price_per_year_built_df = spark.sql(query).toPandas()\n",
    "\n",
    "# Display the results\n",
    "avg_price_per_year_built_df\n"
   ]
  },
  {
   "cell_type": "code",
   "execution_count": null,
   "metadata": {
    "colab": {
     "base_uri": "https://localhost:8080/"
    },
    "id": "Y-Eytz64liDU",
    "outputId": "17119810-56ad-40c3-de5e-c3db57e43bcc"
   },
   "outputs": [],
   "source": [
    "# 5. What is the average price of a home for each year the home was built,\n",
    "# that have 3 bedrooms, 3 bathrooms, with two floors,\n",
    "# and are greater than or equal to 2,000 square feet, rounded to two decimal places?\n",
    "\n",
    "# Perform a SQL query to find the average price for a home with 3 bedrooms, 3 bathrooms, two floors, \n",
    "# and greater than or equal to 2,000 square feet per year built\n",
    "query = \"\"\"\n",
    "SELECT year_built, \n",
    "       ROUND(AVG(price), 2) AS avg_price\n",
    "FROM home_sales\n",
    "WHERE bedrooms = 3 \n",
    "      AND bathrooms = 3 \n",
    "      AND floors = 2 \n",
    "      AND sqft >= 2000\n",
    "GROUP BY year_built\n",
    "ORDER BY year_built\n",
    "\"\"\"\n",
    "\n",
    "# Run the query and show results\n",
    "avg_price_criteria_df = spark.sql(query).toPandas()\n",
    "\n",
    "# Display the results\n",
    "avg_price_criteria_df\n"
   ]
  },
  {
   "cell_type": "code",
   "execution_count": null,
   "metadata": {
    "colab": {
     "base_uri": "https://localhost:8080/"
    },
    "id": "GUrfgOX1pCRd",
    "outputId": "17c25774-855e-4290-a4bd-a04902bdc13a"
   },
   "outputs": [],
   "source": [
    "# 6. What is the average price of a home per \"view\" rating, rounded to two decimal places,\n",
    "# having an average home price greater than or equal to $350,000? Order by descending view rating. \n",
    "# Although this is a small dataset, determine the run time for this query.\n",
    "\n",
    "# Start time\n",
    "start_time = time.time()\n",
    "\n",
    "# Perform a SQL query to find the average price per \"view\" rating for homes with an average price >= $350,000\n",
    "query = \"\"\"\n",
    "SELECT view, \n",
    "       ROUND(AVG(price), 2) AS avg_price\n",
    "FROM home_sales\n",
    "GROUP BY view\n",
    "HAVING AVG(price) >= 350000\n",
    "ORDER BY view DESC\n",
    "\"\"\"\n",
    "\n",
    "# Run the query\n",
    "avg_price_view_df = spark.sql(query)\n",
    "\n",
    "# Action to trigger the query execution and measure the run time\n",
    "avg_price_view_df.show()\n",
    "\n",
    "# End time and runtime calculation\n",
    "print(\"--- %s seconds ---\" % (time.time() - start_time))\n"
   ]
  },
  {
   "cell_type": "code",
   "execution_count": null,
   "metadata": {
    "colab": {
     "base_uri": "https://localhost:8080/"
    },
    "id": "KAhk3ZD2tFy8",
    "outputId": "0a8f132d-40a8-4bd4-b5f2-2847e98427f5"
   },
   "outputs": [],
   "source": [
    "# 7. Cache the the temporary table home_sales.\n",
    "spark.catalog.cacheTable(\"home_sales\")\n",
    "\n",
    "# To check if the table is cached, you can list all cached tables.\n",
    "# # This will return a list of cached tables.\n",
    "# cached_tables = spark.catalog.isCached(\"home_sales\")\n",
    "# print(f\"Is the 'home_sales' table cached? {cached_tables}\")\n"
   ]
  },
  {
   "cell_type": "code",
   "execution_count": null,
   "metadata": {
    "colab": {
     "base_uri": "https://localhost:8080/"
    },
    "id": "4opVhbvxtL-i",
    "outputId": "38ec8487-795f-4550-b50c-fcc6f2b7c769"
   },
   "outputs": [],
   "source": [
    "# 8. Check if the table is cached.\n",
    "spark.catalog.isCached('home_sales')"
   ]
  },
  {
   "cell_type": "code",
   "execution_count": null,
   "metadata": {
    "colab": {
     "base_uri": "https://localhost:8080/"
    },
    "id": "5GnL46lwTSEk",
    "outputId": "09a16c73-194d-4371-95d1-ee64fe83b91c"
   },
   "outputs": [],
   "source": [
    "# 9. Using the cached data, run the last query above, that calculates \n",
    "# the average price of a home per \"view\" rating, rounded to two decimal places,\n",
    "# having an average home price greater than or equal to $350,000. \n",
    "# Determine the runtime and compare it to the uncached runtime.\n",
    "# Start timing\n",
    "start_time = time.time()\n",
    "\n",
    "# SQL query using the cached 'home_sales' table\n",
    "query = \"\"\"\n",
    "SELECT view, \n",
    "       ROUND(AVG(price), 2) AS avg_price\n",
    "FROM home_sales\n",
    "GROUP BY view\n",
    "HAVING AVG(price) >= 350000\n",
    "ORDER BY view DESC\n",
    "\"\"\"\n",
    "\n",
    "# Run the query using the cached data\n",
    "avg_price_view_cached_df = spark.sql(query)\n",
    "\n",
    "# Trigger the action to execute the query and measure the run time\n",
    "avg_price_view_cached_df.show()\n",
    "\n",
    "# Calculate the time it took to run the query\n",
    "runtime = time.time() - start_time\n",
    "print(\"--- %s seconds ---\" % runtime)\n",
    "\n"
   ]
  },
  {
   "cell_type": "code",
   "execution_count": null,
   "metadata": {
    "id": "Qm12WN9isHBR"
   },
   "outputs": [],
   "source": [
    "# 10. Partition by the \"date_built\" field on the formatted parquet home sales data \n",
    "\n",
    "# Assuming 'home_sales' DataFrame is already defined and available\n",
    "\n",
    "# Write out the data partitioned by 'date_built' field in Parquet format\n",
    "home_sales.write.partitionBy(\"date_built\").parquet(\"home_sales_parquet\")\n",
    "\n",
    "# Note: Replace \"path/to/save/home_sales_parquet\" with the actual path where you want to save the Parquet files.\n"
   ]
  },
  {
   "cell_type": "code",
   "execution_count": null,
   "metadata": {
    "id": "AZ7BgY61sRqY"
   },
   "outputs": [],
   "source": [
    "# 11. Read the formatted parquet data.\n",
    "\n",
    "# Read the partitioned Parquet data\n",
    "parquet_home_sales = spark.read.parquet(\"home_sales_parquet\")\n",
    "\n",
    "# Show some data to verify it's been read correctly\n",
    "parquet_home_sales.show()\n",
    "\n",
    "# Note: Replace \"path/to/save/home_sales_parquet\" with the actual path where your Parquet files are saved.\n"
   ]
  },
  {
   "cell_type": "code",
   "execution_count": null,
   "metadata": {
    "id": "J6MJkHfvVcvh"
   },
   "outputs": [],
   "source": [
    "# 12. Create a temporary table for the parquet data.\n",
    "\n",
    "# Assuming 'parquet_home_sales' is your DataFrame from the Parquet data\n",
    "\n",
    "# Create a temporary view of the DataFrame\n",
    "parquet_home_sales.createOrReplaceTempView(\"parquet_home_sales_view\")\n",
    "\n",
    "# Now you can use SQL queries with SparkSQL on this view\n",
    "# For example, to show the first few rows:\n",
    "spark.sql(\"SELECT * FROM parquet_home_sales_view LIMIT 5\").show()\n"
   ]
  },
  {
   "cell_type": "code",
   "execution_count": null,
   "metadata": {
    "colab": {
     "base_uri": "https://localhost:8080/"
    },
    "id": "G_Vhb52rU1Sn",
    "outputId": "a0b8d0c4-55ed-4c6c-bfd8-4c8c5334838e"
   },
   "outputs": [],
   "source": [
    "# 13. Using the parquet DataFrame, run the last query above, that calculates \n",
    "# the average price of a home per \"view\" rating, rounded to two decimal places,\n",
    "# having an average home price greater than or equal to $350,000. \n",
    "# Determine the runtime and compare it to the cached runtime.\n",
    "\n",
    "# Start timing\n",
    "start_time = time.time()\n",
    "\n",
    "# SQL query using the temporary table created from the Parquet DataFrame\n",
    "query = \"\"\"\n",
    "SELECT view, \n",
    "       ROUND(AVG(price), 2) AS avg_price\n",
    "FROM parquet_home_sales_view\n",
    "GROUP BY view\n",
    "HAVING AVG(price) >= 350000\n",
    "ORDER BY view DESC\n",
    "\"\"\"\n",
    "\n",
    "# Run the query\n",
    "avg_price_view_parquet_df = spark.sql(query)\n",
    "\n",
    "# Trigger the action to execute the query and measure the run time\n",
    "avg_price_view_parquet_df.show()\n",
    "\n",
    "# Calculate the time it took to run the query\n",
    "runtime = time.time() - start_time\n",
    "print(\"--- %s seconds ---\" % runtime)"
   ]
  },
  {
   "cell_type": "code",
   "execution_count": null,
   "metadata": {
    "colab": {
     "base_uri": "https://localhost:8080/"
    },
    "id": "hjjYzQGjtbq8",
    "outputId": "830549fd-bb41-451b-9183-5ebf6e3e470b"
   },
   "outputs": [],
   "source": [
    "# 14. Uncache the home_sales temporary table.\n",
    "\n",
    "\n",
    "# Uncache the 'home_sales' temporary table\n",
    "spark.catalog.uncacheTable(\"home_sales\")\n",
    "\n",
    "# Verify if the table is uncached\n",
    "is_cached = spark.catalog.isCached(\"home_sales\")\n",
    "print(f\"Is the 'home_sales' table cached? {is_cached}\")\n"
   ]
  },
  {
   "cell_type": "code",
   "execution_count": null,
   "metadata": {
    "colab": {
     "base_uri": "https://localhost:8080/"
    },
    "id": "Sy9NBvO7tlmm",
    "outputId": "be73e0e3-5e85-4794-aad9-025fb6fa84a7"
   },
   "outputs": [],
   "source": [
    "# 15. Check if the home_sales is no longer cached\n",
    "\n",
    "# Check if the 'home_sales' table is cached\n",
    "is_cached = spark.catalog.isCached(\"home_sales\")\n",
    "print(f\"Is the 'home_sales' table cached? {is_cached}\")\n"
   ]
  },
  {
   "cell_type": "code",
   "execution_count": null,
   "metadata": {},
   "outputs": [],
   "source": []
  }
 ],
 "metadata": {
  "colab": {
   "collapsed_sections": [],
   "name": "Copy of Home_Sales_solution.ipynb",
   "provenance": []
  },
  "kernelspec": {
   "display_name": "Python 3 (ipykernel)",
   "language": "python",
   "name": "python3"
  },
  "language_info": {
   "codemirror_mode": {
    "name": "ipython",
    "version": 3
   },
   "file_extension": ".py",
   "mimetype": "text/x-python",
   "name": "python",
   "nbconvert_exporter": "python",
   "pygments_lexer": "ipython3",
   "version": "3.10.9"
  },
  "nteract": {
   "version": "0.28.0"
  }
 },
 "nbformat": 4,
 "nbformat_minor": 1
}
